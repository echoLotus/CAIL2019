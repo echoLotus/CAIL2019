{
 "cells": [
  {
   "cell_type": "code",
   "execution_count": 5,
   "metadata": {},
   "outputs": [],
   "source": [
    "import das.tensorflow.estimator as te\n",
    "t_job= te.TensorFlow(entry_point = '/home/hecongqing1/cail/src/main-Copy4.py', \\\n",
    "                       train_gpu_count = 1,\n",
    "                       hyperparameters = {'task_name':\"task3\",\"do_train\":True, \"train_path\":\"../input/SCM_5k.json\",\n",
    "                                          \"do_eval\":False, \"do_predict\":False, \"vocab_file\":\"./chinese_L-12_H-768_A-12/vocab.txt\",\n",
    "                                          \"bert_config_file\":\"./chinese_L-12_H-768_A-12/bert_config.json\",\n",
    "                                          \"init_checkpoint\":\"./chinese_L-12_H-768_A-12/bert_model.ckpt\",\n",
    "                                          \"save_checkpoints_steps\":10000000,\"max_seq_length\":512,\"train_batch_size\":16,\n",
    "                                          \"learning_rate\":2e-5,\"num_train_epochs\":8.0,\n",
    "                                          \"output_dir\":\"../tmp/big_data_avg_epochs_8_lr2e-5test/\"}\n",
    "                      )"
   ]
  },
  {
   "cell_type": "code",
   "execution_count": 6,
   "metadata": {},
   "outputs": [
    {
     "ename": "ValueError",
     "evalue": "Please make sure your source codes are placed under /mnt/yourerp/ folder.",
     "output_type": "error",
     "traceback": [
      "\u001b[0;31m---------------------------------------------------------------------------\u001b[0m",
      "\u001b[0;31mValueError\u001b[0m                                Traceback (most recent call last)",
      "\u001b[0;32m<ipython-input-6-c04f823b54f2>\u001b[0m in \u001b[0;36m<module>\u001b[0;34m\u001b[0m\n\u001b[0;32m----> 1\u001b[0;31m t_job.fit(base_job_name='test'\n\u001b[0m\u001b[1;32m      2\u001b[0m            )\n",
      "\u001b[0;32m/usr/local/anaconda3/lib/python3.6/site-packages/das/estimator.pyc\u001b[0m in \u001b[0;36mfit\u001b[0;34m(self, input_data, logs, base_job_name)\u001b[0m\n",
      "\u001b[0;32m/usr/local/anaconda3/lib/python3.6/site-packages/das/estimator.pyc\u001b[0m in \u001b[0;36m_prepare_for_training\u001b[0;34m(self, base_job_name)\u001b[0m\n",
      "\u001b[0;31mValueError\u001b[0m: Please make sure your source codes are placed under /mnt/yourerp/ folder."
     ]
    }
   ],
   "source": [
    "t_job.fit(base_job_name='test'\n",
    "           )"
   ]
  },
  {
   "cell_type": "code",
   "execution_count": null,
   "metadata": {},
   "outputs": [],
   "source": []
  }
 ],
 "metadata": {
  "kernelspec": {
   "display_name": "Python3 (PySpark)",
   "language": "python",
   "name": "python3"
  },
  "language_info": {
   "codemirror_mode": {
    "name": "ipython",
    "version": 3
   },
   "file_extension": ".py",
   "mimetype": "text/x-python",
   "name": "python",
   "nbconvert_exporter": "python",
   "pygments_lexer": "ipython3",
   "version": "3.6.7"
  }
 },
 "nbformat": 4,
 "nbformat_minor": 2
}
