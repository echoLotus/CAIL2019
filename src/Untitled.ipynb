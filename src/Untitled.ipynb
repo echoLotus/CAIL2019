{
 "cells": [
  {
   "cell_type": "code",
   "execution_count": 3,
   "metadata": {},
   "outputs": [],
   "source": [
    "import json\n",
    "import tensorflow as tf\n",
    "import pandas as pd"
   ]
  },
  {
   "cell_type": "code",
   "execution_count": 6,
   "metadata": {},
   "outputs": [],
   "source": [
    "text_a=[]\n",
    "text_b=[]\n",
    "text_c=[]\n",
    "label=[]\n",
    "guid=[]\n",
    "data_path =\"../input/SCM_5k.json\"\n",
    "import re\n",
    "def remove_punctuation(line):\n",
    "    rule = re.compile(r\"[^\\u4e00-\\u9fa5]\")\n",
    "    line = rule.sub('',line)\n",
    "    return line\n",
    "\n",
    "with open(data_path, encoding='utf-8') as reader:\n",
    "    for i,line in enumerate(reader):\n",
    "        lines = json.loads(line)\n",
    "\n",
    "        a =  lines[\"A\"].split(\"\\n\\n\")[1]\n",
    "        b =  lines['B'].split(\"\\n\\n\")[1]\n",
    "        c =  lines['C'].split(\"\\n\\n\")[1]\n",
    "        text_a.append(a)\n",
    "        text_b.append(b)\n",
    "        text_c.append(c)\n"
   ]
  },
  {
   "cell_type": "code",
   "execution_count": 13,
   "metadata": {},
   "outputs": [
    {
     "data": {
      "text/plain": [
       "'原告牛某1向本院提出诉讼请求：1．请求法院判令三被告立即共同连带归还原告借款本金3000000元，并按照年利率24％的标准支付原告自2013年6月10日起至三被告实际还清全部欠款之日的利息，该利息暂计至2017年11月9日为3230000元；2．请求法院判令三被告承担本案全部诉讼费用。事实和理由：2011年11月2日，原告与被告冯某1、被告康某1签订了《借款协议书》，约定原告出借给被告冯某1、被告康某1人民币300万元，借款期限为12个月，自2011年11月2日至2012年10月31日。双方约定按每月3％计算利息，被告按季度向原告支付利息。上述合同签订后，原告依约向被告支付了全部款项，但被告一直未能按时支付利息，借款期限届满后也未能归还本金。2014年2月10日，被告山西智伟基业房地产开发有限公司向原告出具《承诺书》，明确了其向原告借款的事实，并承诺于2014年3月、6月向原告支付利息，于2014年11月2日前向原告还清全部本息。该承诺书出具后，原告与被告冯某1、被告康某1于2014年3月5日签订了《借款补充协议书》，约定将前述借款延期至2014年11月2日。但借款期限届满后三被告仍未依约还款，经原告多次催要无果，故诉至法院，请求法院依法支持原告的诉讼请求。被告山西智伟基业房地产开发有限公司、冯某1、康某1承认原告牛某1提出的全部诉讼请求。\\n'"
      ]
     },
     "execution_count": 13,
     "metadata": {},
     "output_type": "execute_result"
    }
   ],
   "source": [
    "aaa=pd.DataFrame([text_a,text_b,text_c]).T\n",
    "aaa.columns=['A','B','C']\n",
    "text_c[0]"
   ]
  },
  {
   "cell_type": "code",
   "execution_count": 3,
   "metadata": {},
   "outputs": [
    {
     "name": "stderr",
     "output_type": "stream",
     "text": [
      "Using TensorFlow backend.\n"
     ]
    }
   ],
   "source": [
    "from keras_bert import get_base_dict\n",
    "token_dict=get_base_dict()\n",
    "with open(\"./chinese_L-12_H-768_A-12/vocab.txt\") as f:\n",
    "    for token in f:\n",
    "        token = token.strip()\n",
    "        if token not in token_dict:\n",
    "            token_dict[token] = len(token_dict)\n",
    "\n",
    "\n"
   ]
  },
  {
   "cell_type": "code",
   "execution_count": null,
   "metadata": {},
   "outputs": [],
   "source": [
    "token_dict"
   ]
  },
  {
   "cell_type": "code",
   "execution_count": 4,
   "metadata": {},
   "outputs": [],
   "source": [
    "import os\n",
    "import numpy as np\n",
    "from tqdm import tqdm\n",
    "from keras_bert import Tokenizer\n",
    "tokenizer = Tokenizer(token_dict)\n",
    "\n",
    "\n",
    "def load_data(text_a,text_b,label,SEQ_LEN):\n",
    "    global tokenizer\n",
    "    indices_a, indices_b, sentiments = [], [],[]\n",
    "    for line_a, line_b,line_l in zip(text_a,text_b,label):\n",
    "        ids_a, segments_a = tokenizer.encode(line_a[-300:], max_len=SEQ_LEN)\n",
    "        ids_b, segments_b = tokenizer.encode(line_b[-300:], max_len=SEQ_LEN)\n",
    "        indices_a.append(ids_a)\n",
    "        indices_b.append(ids_b)        \n",
    "        sentiments.append(line_l)\n",
    "    items = list(zip(indices_a, indices_b, sentiments))\n",
    "    np.random.shuffle(items)\n",
    "    indices_a, indices_b, sentiments = zip(*items)  \n",
    "    indices_a = np.array(indices_a)\n",
    "    indices_b = np.array(indices_b)     \n",
    "    return [indices_a, np.zeros_like(indices_a), indices_b, np.zeros_like(indices_b)], np.array(sentiments)    \n",
    "    "
   ]
  },
  {
   "cell_type": "code",
   "execution_count": 5,
   "metadata": {},
   "outputs": [],
   "source": [
    "train_feat,train_label = load_data(text_a,text_b,label,300)"
   ]
  },
  {
   "cell_type": "code",
   "execution_count": 12,
   "metadata": {},
   "outputs": [],
   "source": [
    "str_num={\"B\":1,\"C\":0}\n",
    "num_str={1:\"B\",0:\"C\"}"
   ]
  },
  {
   "cell_type": "code",
   "execution_count": 13,
   "metadata": {},
   "outputs": [],
   "source": [
    "train_label = np.array(list(map(lambda x:str_num[x],train_label)))"
   ]
  },
  {
   "cell_type": "code",
   "execution_count": 14,
   "metadata": {},
   "outputs": [],
   "source": [
    "import os\n",
    "from keras_bert import load_trained_model_from_checkpoint\n",
    "from keras.layers import GlobalAveragePooling1D\n",
    "from keras.optimizers import *\n",
    "from keras.layers import *\n",
    "from keras.layers import Layer\n",
    "from keras_bert.backend import backend as K\n",
    "from keras.models import Model\n",
    "\n",
    "class MaskedGlobalAveragePool1D(Layer):\n",
    "\n",
    "    def __init__(self, **kwargs):\n",
    "        super(MaskedGlobalAveragePool1D, self).__init__(**kwargs)\n",
    "        self.supports_masking = True\n",
    "\n",
    "    def compute_mask(self, inputs, mask=None):\n",
    "        return None\n",
    "\n",
    "    def compute_output_shape(self, input_shape):\n",
    "        return input_shape[:-2] + (input_shape[-1],)\n",
    "\n",
    "    def call(self, inputs, mask=None):\n",
    "        if mask is not None:\n",
    "            mask = K.cast(mask, K.floatx())\n",
    "            inputs -= K.expand_dims((1.0 - mask) * 1e6, axis=-1)\n",
    "        return K.mean(inputs, axis=-2)\n",
    "\n",
    "\n",
    "def BERT_Finetune():\n",
    "    layer_num = 12\n",
    "    checkpoint_path = './chinese_L-12_H-768_A-12/'\n",
    "\n",
    "    config_path = os.path.join(checkpoint_path, 'bert_config.json')\n",
    "    model_path = os.path.join(checkpoint_path, 'bert_model.ckpt')\n",
    "#     bert_model = load_trained_model_from_checkpoint(\n",
    "#         config_path,\n",
    "#         model_path,\n",
    "#         training=False,\n",
    "#         use_adapter=True,\n",
    "#         trainable=['Encoder-{}-MultiHeadSelfAttention-Adapter'.format(i + 1) for i in range(layer_num)] +\n",
    "#         ['Encoder-{}-FeedForward-Adapter'.format(i + 1) for i in range(layer_num)] +\n",
    "#         ['Encoder-{}-MultiHeadSelfAttention-Norm'.format(i + 1) for i in range(layer_num)] +\n",
    "#         ['Encoder-{}-FeedForward-Norm'.format(i + 1) for i in range(layer_num)],\n",
    "#     )\n",
    "    bert_model = load_trained_model_from_checkpoint(config_path, model_path)\n",
    "\n",
    "    for l in bert_model.layers:\n",
    "        l.trainable = True    \n",
    "    \n",
    "    xa1_in = Input(shape=(None,))  \n",
    "    xa2_in = Input(shape=(None,))  \n",
    "    xb1_in = Input(shape=(None,))  \n",
    "    xb2_in = Input(shape=(None,))  \n",
    "    \n",
    "    xa = bert_model([xa1_in, xa2_in])\n",
    "    xb = bert_model([xb1_in, xb2_in])\n",
    "    xa = MaskedGlobalAveragePool1D()(xa)\n",
    "    xb = MaskedGlobalAveragePool1D()(xb)\n",
    "    merged = concatenate([xa, xb])\n",
    "#     char_diff  = Lambda(lambda x: K.abs(x[0] - x[1]))([xa, xb]) \n",
    "#     char_angle = Lambda(lambda x: x[0] * x[1])([xa, xb])\n",
    "    \n",
    "#     merged = concatenate([char_diff, char_angle])\n",
    "#     merged = Dropout(0.5)(merged)\n",
    "#     merged = BatchNormalization(trainable=False)(merged)\n",
    "#     merged = Dense(500, activation=\"relu\",trainable=False)(merged)\n",
    "    \n",
    "#     merged = Dropout(0.5)(merged)\n",
    "#     merged = BatchNormalization(trainable=False)(merged)\n",
    "    out    = Dense(1, activation=\"sigmoid\",trainable=False)(merged)\n",
    "    \n",
    "    model = Model(inputs=[ xa1_in, xa2_in, xb1_in, xb2_in], outputs=out)\n",
    "    model.compile(loss='binary_crossentropy', optimizer=Nadam(lr=0.001),metrics=['accuracy'])\n",
    "    return model\n"
   ]
  },
  {
   "cell_type": "code",
   "execution_count": 15,
   "metadata": {},
   "outputs": [
    {
     "name": "stdout",
     "output_type": "stream",
     "text": [
      "WARNING:tensorflow:From /usr/local/anaconda3/lib/python3.6/site-packages/keras/backend/tensorflow_backend.py:1374: calling reduce_all (from tensorflow.python.ops.math_ops) with keep_dims is deprecated and will be removed in a future version.\n",
      "Instructions for updating:\n",
      "keep_dims is deprecated, use keepdims instead\n",
      "WARNING:tensorflow:From /usr/local/anaconda3/lib/python3.6/site-packages/keras/backend/tensorflow_backend.py:1344: calling reduce_mean (from tensorflow.python.ops.math_ops) with keep_dims is deprecated and will be removed in a future version.\n",
      "Instructions for updating:\n",
      "keep_dims is deprecated, use keepdims instead\n",
      "WARNING:tensorflow:From /usr/local/anaconda3/lib/python3.6/site-packages/keras/backend/tensorflow_backend.py:1208: calling reduce_max (from tensorflow.python.ops.math_ops) with keep_dims is deprecated and will be removed in a future version.\n",
      "Instructions for updating:\n",
      "keep_dims is deprecated, use keepdims instead\n",
      "WARNING:tensorflow:From /usr/local/anaconda3/lib/python3.6/site-packages/keras/backend/tensorflow_backend.py:1242: calling reduce_sum (from tensorflow.python.ops.math_ops) with keep_dims is deprecated and will be removed in a future version.\n",
      "Instructions for updating:\n",
      "keep_dims is deprecated, use keepdims instead\n"
     ]
    }
   ],
   "source": [
    "model = BERT_Finetune()"
   ]
  },
  {
   "cell_type": "code",
   "execution_count": 16,
   "metadata": {},
   "outputs": [
    {
     "name": "stdout",
     "output_type": "stream",
     "text": [
      "__________________________________________________________________________________________________\n",
      "Layer (type)                    Output Shape         Param #     Connected to                     \n",
      "==================================================================================================\n",
      "input_1 (InputLayer)            (None, None)         0                                            \n",
      "__________________________________________________________________________________________________\n",
      "input_2 (InputLayer)            (None, None)         0                                            \n",
      "__________________________________________________________________________________________________\n",
      "input_3 (InputLayer)            (None, None)         0                                            \n",
      "__________________________________________________________________________________________________\n",
      "input_4 (InputLayer)            (None, None)         0                                            \n",
      "__________________________________________________________________________________________________\n",
      "model_2 (Model)                 multiple             101677056   input_1[0][0]                    \n",
      "                                                                 input_2[0][0]                    \n",
      "                                                                 input_3[0][0]                    \n",
      "                                                                 input_4[0][0]                    \n",
      "__________________________________________________________________________________________________\n",
      "masked_global_average_pool1d_1  (None, 768)          0           model_2[1][0]                    \n",
      "__________________________________________________________________________________________________\n",
      "masked_global_average_pool1d_2  (None, 768)          0           model_2[2][0]                    \n",
      "__________________________________________________________________________________________________\n",
      "concatenate_1 (Concatenate)     (None, 1536)         0           masked_global_average_pool1d_1[0]\n",
      "                                                                 masked_global_average_pool1d_2[0]\n",
      "__________________________________________________________________________________________________\n",
      "dense_1 (Dense)                 (None, 1)            1537        concatenate_1[0][0]              \n",
      "==================================================================================================\n",
      "Total params: 101,678,593\n",
      "Trainable params: 101,677,056\n",
      "Non-trainable params: 1,537\n",
      "__________________________________________________________________________________________________\n"
     ]
    }
   ],
   "source": [
    "model.summary()"
   ]
  },
  {
   "cell_type": "code",
   "execution_count": null,
   "metadata": {},
   "outputs": [
    {
     "name": "stdout",
     "output_type": "stream",
     "text": [
      "Epoch 1/15\n",
      "10200/10204 [============================>.] - ETA: 0s - loss: 8.0649 - acc: 0.4981Epoch 00001: acc improved from -inf to 0.49804, saving model to model.hdf5\n",
      "10204/10204 [==============================] - 1048s 103ms/step - loss: 8.0664 - acc: 0.4980\n",
      "Epoch 2/15\n",
      " 2060/10204 [=====>........................] - ETA: 13:36 - loss: 8.1604 - acc: 0.4922"
     ]
    }
   ],
   "source": [
    "from keras.callbacks import ModelCheckpoint,EarlyStopping,ReduceLROnPlateau\n",
    "early_stopping = EarlyStopping(monitor='acc', patience=6)\n",
    "plateau = ReduceLROnPlateau(monitor=\"acc\", verbose=1, mode='max', factor=0.5, patience=3)\n",
    "checkpoint = ModelCheckpoint('model.hdf5', monitor='acc', verbose=2, save_best_only=True, mode='max',save_weights_only=True)\n",
    "\n",
    "\n",
    "# gpu_config = tf.ConfigProto()\n",
    "# gpu_config.gpu_options.allow_growth = True\n",
    "# with tf.Session(config=gpu_config) as sess:\n",
    "model.fit(train_feat,train_label,\n",
    "          batch_size=10,\n",
    "          epochs=15,\n",
    "          callbacks=[early_stopping, plateau, checkpoint])"
   ]
  },
  {
   "cell_type": "code",
   "execution_count": null,
   "metadata": {},
   "outputs": [],
   "source": []
  },
  {
   "cell_type": "code",
   "execution_count": null,
   "metadata": {},
   "outputs": [],
   "source": []
  }
 ],
 "metadata": {
  "kernelspec": {
   "display_name": "Python3 (PySpark)",
   "language": "python",
   "name": "python3"
  },
  "language_info": {
   "codemirror_mode": {
    "name": "ipython",
    "version": 3
   },
   "file_extension": ".py",
   "mimetype": "text/x-python",
   "name": "python",
   "nbconvert_exporter": "python",
   "pygments_lexer": "ipython3",
   "version": "3.6.7"
  }
 },
 "nbformat": 4,
 "nbformat_minor": 2
}
